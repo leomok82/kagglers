{
 "cells": [
  {
   "cell_type": "code",
   "execution_count": 1,
   "metadata": {},
   "outputs": [],
   "source": [
    "# kaggle competitions submit -c [COMPETITION] -f [FILE] -m [MESSAGE]: make a competition submission\n"
   ]
  },
  {
   "cell_type": "code",
   "execution_count": 2,
   "metadata": {},
   "outputs": [],
   "source": [
    "import pyarrow.parquet as pa\n",
    "import pandas as pd\n",
    "\n"
   ]
  },
  {
   "cell_type": "code",
   "execution_count": 3,
   "metadata": {},
   "outputs": [],
   "source": [
    "tbl = pa.read_table('jane-street-real-time-market-data-forecasting/train.parquet/partition_id=0/part-0.parquet').to_pandas()"
   ]
  },
  {
   "cell_type": "code",
   "execution_count": 4,
   "metadata": {},
   "outputs": [],
   "source": [
    "# schema = pa.read_schema('jane-street-real-time-market-data-forecasting/lags.parquet/date_id=0/part-0.parquet')\n",
    "# tbllags = pa.read_table('jane-street-real-time-market-data-forecasting/lags.parquet/date_id=0/part-0.parquet', schema=schema).to_pandas()"
   ]
  },
  {
   "cell_type": "code",
   "execution_count": 5,
   "metadata": {},
   "outputs": [],
   "source": [
    "#symbol : financial instrument (20 in the parquet)\n",
    "# Transformer - input - seq of n instruments, window (60) * n features, to predict outcome of each instrument\n",
    "# embedding of window * n features (60 * 100) to a fixed size vector (1024)\n",
    "\n",
    "# VAR model"
   ]
  },
  {
   "cell_type": "code",
   "execution_count": 6,
   "metadata": {},
   "outputs": [
    {
     "data": {
      "text/plain": [
       "symbol_id\n",
       "1     143481\n",
       "16    141783\n",
       "7     140934\n",
       "19    139236\n",
       "9     138387\n",
       "0     138387\n",
       "38    133293\n",
       "33    115464\n",
       "12    112068\n",
       "13    110370\n",
       "8     108672\n",
       "10    102729\n",
       "2      73863\n",
       "17     68769\n",
       "34     61128\n",
       "3      60279\n",
       "11     58581\n",
       "14     54336\n",
       "15     22074\n",
       "30     20376\n",
       "Name: count, dtype: int64"
      ]
     },
     "execution_count": 6,
     "metadata": {},
     "output_type": "execute_result"
    }
   ],
   "source": [
    "\n",
    "tbl['symbol_id'].value_counts()"
   ]
  },
  {
   "cell_type": "markdown",
   "metadata": {},
   "source": [
    "#### Drop columns with NA"
   ]
  },
  {
   "cell_type": "code",
   "execution_count": 7,
   "metadata": {},
   "outputs": [
    {
     "name": "stdout",
     "output_type": "stream",
     "text": [
      "84 93\n"
     ]
    }
   ],
   "source": [
    "# 78 features, 8 targets\n",
    "# dropped 9 columns\n",
    "drop_threshold = 0.5\n",
    "print((tbl.isna().sum() <tbl.shape[0]*drop_threshold).sum(), tbl.shape[1])\n"
   ]
  },
  {
   "cell_type": "code",
   "execution_count": 8,
   "metadata": {},
   "outputs": [
    {
     "name": "stdout",
     "output_type": "stream",
     "text": [
      "Successfully created database\n"
     ]
    }
   ],
   "source": [
    "from sklearn.preprocessing import MinMaxScaler,OneHotEncoder\n",
    "from sklearn.impute import KNNImputer, SimpleImputer\n",
    "from sklearn.pipeline import Pipeline\n",
    "import numpy as np\n",
    "from sklearn.compose import ColumnTransformer\n",
    "\n",
    "def preprocess(df, drop_threshold=0.8):\n",
    "    \"\"\"\n",
    "    Preprocess DataFrame:\n",
    "    1) Remove columns with excessive NAs.\n",
    "    2) Add lagged variables for float columns.\n",
    "    3) Drop responder columns.\n",
    "    4) Add time-based features.\n",
    "    5) Scale numeric columns and encode categorical columns.\n",
    "    6) Output a processed Pandas DataFrame.\n",
    "    \"\"\"\n",
    "    tbl = df.copy()\n",
    "\n",
    "    # 1. Remove columns with excessive NAs\n",
    "    tbl = tbl[tbl.columns[tbl.isna().sum() < tbl.shape[0] * drop_threshold]]\n",
    "\n",
    "    # 2. Create lagged variables for float columns\n",
    "    float_cols = tbl.select_dtypes(include='float').columns\n",
    "    lagged_floats = tbl[float_cols].diff().add_suffix('_l1')\n",
    "    responder = tbl['responder_6']\n",
    "    \n",
    "    # 3. Drop responder columns\n",
    "    tbl.drop(columns=['responder_0', 'responder_1', 'responder_2', \n",
    "                      'responder_3', 'responder_4', 'responder_5', \n",
    "                      'responder_6', 'responder_7', 'responder_8'], inplace=True, errors='ignore')\n",
    "\n",
    "    # 4. Concatenate lagged variables and add time-based features\n",
    "    # tbl = pd.concat([tbl, lagged_floats], axis=1).iloc[1:]  # Drop first row due to NaN from diff\n",
    "    tbl[lagged_floats.columns] = lagged_floats\n",
    "    tbl['day'] = tbl['date_id'] % 5\n",
    "    tbl['t'] = ((tbl['date_id'] +1).astype(int)* 1000 + tbl['time_id'].astype(int)).astype(int)\n",
    "    \n",
    "    tbl = tbl[~tbl.duplicated(subset=['symbol_id', 't'], keep=False)]\n",
    "    \n",
    "    # 5. Define column categories for scaling and encoding\n",
    "    float_cols = tbl.select_dtypes(include='float').columns\n",
    "    int_cols = tbl.iloc[:, 3:-1].select_dtypes(exclude='float').columns #last column is time\n",
    "    additional_cols = ['t', 'symbol_id']\n",
    "    # 6. Set up column transformers for preprocessing\n",
    "    # Float columns: impute + scale\n",
    "    float_pipe = Pipeline([\n",
    "        ('imputer', SimpleImputer(strategy='mean')),\n",
    "        ('scaler', MinMaxScaler())\n",
    "    ])\n",
    "    \n",
    "    # Integer columns: impute + one-hot encode\n",
    "    int_pipe = Pipeline([\n",
    "        ('imputer', SimpleImputer(strategy='most_frequent')),\n",
    "        ('onehot', OneHotEncoder(handle_unknown='ignore', sparse_output=False))\n",
    "    ])\n",
    "\n",
    "    # Combine preprocessing steps\n",
    "    preprocessor = ColumnTransformer([\n",
    "        ('float_pipe', float_pipe, float_cols),\n",
    "        ('int_pipe', int_pipe, int_cols)\n",
    "    ], remainder='passthrough')  # Keep additional_cols as-is\n",
    "\n",
    "    # 7. Apply transformations\n",
    "    processed_data = preprocessor.fit_transform(tbl.iloc[:,3:-1])\n",
    "    feature_names = (\n",
    "        list(float_cols) +\n",
    "        list(preprocessor.named_transformers_['int_pipe']['onehot'].get_feature_names_out(int_cols))     )\n",
    "\n",
    "    # Convert the processed array back to a DataFrame\n",
    "    processed_df = pd.DataFrame(processed_data, columns=feature_names)\n",
    "    # processed_df= pd.concat([processed_df, tbl[additional_cols]], axis=1)\n",
    "    processed_df[additional_cols] = tbl[additional_cols].values\n",
    "\n",
    "    \n",
    "\n",
    "    # 8. Process responder column\n",
    "    responder = float_pipe.fit_transform(responder.values.reshape(-1, 1))\n",
    "    responder_df = pd.DataFrame({\n",
    "        'symbol_id': tbl['symbol_id'].values,\n",
    "        't': tbl['t'].values,\n",
    "        'responder': responder.flatten()\n",
    "    })\n",
    "\n",
    "\n",
    "    print(\"Successfully created database\")\n",
    "    return processed_df, responder_df\n",
    "X, Y = preprocess(tbl)\n"
   ]
  },
  {
   "cell_type": "code",
   "execution_count": 9,
   "metadata": {},
   "outputs": [
    {
     "data": {
      "text/html": [
       "<div>\n",
       "<style scoped>\n",
       "    .dataframe tbody tr th:only-of-type {\n",
       "        vertical-align: middle;\n",
       "    }\n",
       "\n",
       "    .dataframe tbody tr th {\n",
       "        vertical-align: top;\n",
       "    }\n",
       "\n",
       "    .dataframe thead th {\n",
       "        text-align: right;\n",
       "    }\n",
       "</style>\n",
       "<table border=\"1\" class=\"dataframe\">\n",
       "  <thead>\n",
       "    <tr style=\"text-align: right;\">\n",
       "      <th></th>\n",
       "      <th>symbol_id</th>\n",
       "      <th>t</th>\n",
       "      <th>responder</th>\n",
       "    </tr>\n",
       "  </thead>\n",
       "  <tbody>\n",
       "    <tr>\n",
       "      <th>0</th>\n",
       "      <td>1</td>\n",
       "      <td>1000</td>\n",
       "      <td>0.577598</td>\n",
       "    </tr>\n",
       "    <tr>\n",
       "      <th>1</th>\n",
       "      <td>7</td>\n",
       "      <td>1000</td>\n",
       "      <td>0.570367</td>\n",
       "    </tr>\n",
       "    <tr>\n",
       "      <th>2</th>\n",
       "      <td>9</td>\n",
       "      <td>1000</td>\n",
       "      <td>0.710935</td>\n",
       "    </tr>\n",
       "    <tr>\n",
       "      <th>3</th>\n",
       "      <td>10</td>\n",
       "      <td>1000</td>\n",
       "      <td>0.611414</td>\n",
       "    </tr>\n",
       "    <tr>\n",
       "      <th>4</th>\n",
       "      <td>14</td>\n",
       "      <td>1000</td>\n",
       "      <td>0.142718</td>\n",
       "    </tr>\n",
       "    <tr>\n",
       "      <th>...</th>\n",
       "      <td>...</td>\n",
       "      <td>...</td>\n",
       "      <td>...</td>\n",
       "    </tr>\n",
       "    <tr>\n",
       "      <th>1944205</th>\n",
       "      <td>19</td>\n",
       "      <td>170848</td>\n",
       "      <td>0.546535</td>\n",
       "    </tr>\n",
       "    <tr>\n",
       "      <th>1944206</th>\n",
       "      <td>30</td>\n",
       "      <td>170848</td>\n",
       "      <td>0.491146</td>\n",
       "    </tr>\n",
       "    <tr>\n",
       "      <th>1944207</th>\n",
       "      <td>33</td>\n",
       "      <td>170848</td>\n",
       "      <td>0.459220</td>\n",
       "    </tr>\n",
       "    <tr>\n",
       "      <th>1944208</th>\n",
       "      <td>34</td>\n",
       "      <td>170848</td>\n",
       "      <td>0.525458</td>\n",
       "    </tr>\n",
       "    <tr>\n",
       "      <th>1944209</th>\n",
       "      <td>38</td>\n",
       "      <td>170848</td>\n",
       "      <td>0.534740</td>\n",
       "    </tr>\n",
       "  </tbody>\n",
       "</table>\n",
       "<p>1944210 rows × 3 columns</p>\n",
       "</div>"
      ],
      "text/plain": [
       "         symbol_id       t  responder\n",
       "0                1    1000   0.577598\n",
       "1                7    1000   0.570367\n",
       "2                9    1000   0.710935\n",
       "3               10    1000   0.611414\n",
       "4               14    1000   0.142718\n",
       "...            ...     ...        ...\n",
       "1944205         19  170848   0.546535\n",
       "1944206         30  170848   0.491146\n",
       "1944207         33  170848   0.459220\n",
       "1944208         34  170848   0.525458\n",
       "1944209         38  170848   0.534740\n",
       "\n",
       "[1944210 rows x 3 columns]"
      ]
     },
     "execution_count": 9,
     "metadata": {},
     "output_type": "execute_result"
    }
   ],
   "source": [
    "# need to fix Yasdf\n",
    "Y"
   ]
  },
  {
   "cell_type": "code",
   "execution_count": 10,
   "metadata": {},
   "outputs": [],
   "source": [
    "# # list of\n",
    "# # Step 1: Extract unique time steps\n",
    "# time_steps = X['t'].unique()\n",
    "\n",
    "# # Step 2: Create a mapping from symbol_id to indices\n",
    "# symbol_ids = X['symbol_id'].unique()\n",
    "# symbol_id_to_idx = {sid: idx for idx, sid in enumerate(symbol_ids)}\n",
    "\n",
    "# # Step 3: Create a list to store (symbol_id, features) for each time step\n",
    "# time_list = []\n",
    "\n",
    "# # Step 4: Group data by time and collect (symbol_id, features) pairs\n",
    "# for time in time_steps:\n",
    "#     # Filter rows for the current time step\n",
    "#     time_data = X[X['t'] == time]\n",
    "    \n",
    "#     # Create a list of (symbol_id, features) pairs\n",
    "#     time_step_data = [\n",
    "#         (row['symbol_id'], row.iloc[:-2].to_numpy())  # Symbol ID and features\n",
    "#         for _, row in time_data.iterrows()\n",
    "#     ]\n",
    "    \n",
    "#     # Append the list for this time step\n",
    "#     time_list.append(time_step_data)\n",
    "\n",
    "# # Step 5: Result\n",
    "# print(f\"Number of time steps: {len(time_list)}\")\n",
    "# print(f\"Example for the first time step: {time_list[0]}\")"
   ]
  },
  {
   "cell_type": "code",
   "execution_count": 11,
   "metadata": {},
   "outputs": [
    {
     "data": {
      "text/plain": [
       "0.3264705882352941"
      ]
     },
     "execution_count": 11,
     "metadata": {},
     "output_type": "execute_result"
    }
   ],
   "source": [
    "# time list is likely better for training\n",
    "\n",
    "#Check what % of (symbol_id, t) pairs are missing\n",
    "from itertools import product\n",
    "symbol_ids = X['symbol_id'].unique()\n",
    "time_steps = X['t'].unique()\n",
    "complete_pairs = set(product(symbol_ids, time_steps))\n",
    "actual_pairs = set(zip(X['symbol_id'], X['t']))\n",
    "\n",
    "missing_pairs = complete_pairs - actual_pairs\n",
    "fraction_missing = len(missing_pairs) / len(complete_pairs)\n",
    "fraction_missing"
   ]
  },
  {
   "cell_type": "code",
   "execution_count": null,
   "metadata": {},
   "outputs": [],
   "source": []
  },
  {
   "cell_type": "code",
   "execution_count": 12,
   "metadata": {},
   "outputs": [
    {
     "name": "stdout",
     "output_type": "stream",
     "text": [
      "Array Shape: (20, 144330, 180)\n"
     ]
    }
   ],
   "source": [
    "\n",
    "def to_arr(X, Y):\n",
    "\n",
    "    # Step 1: Extract unique symbol_ids and time_steps\n",
    "    symbol_ids = X['symbol_id'].unique()\n",
    "    time_steps = X['t'].unique()\n",
    "\n",
    "    # Step 2: Create mappings from symbol_id and t to indices\n",
    "    symbol_id_to_idx = {sid: idx for idx, sid in enumerate(symbol_ids)}\n",
    "    t_to_idx = {t: idx for idx, t in enumerate(time_steps)}\n",
    "\n",
    "    # Step 3: Vectorized mapping of symbol_id and t to indices\n",
    "    symbol_indices = X['symbol_id'].map(symbol_id_to_idx).to_numpy()\n",
    "    time_indices = X['t'].map(t_to_idx).to_numpy()\n",
    "\n",
    "    # Step 4: Initialize the arrays\n",
    "    n_symbols = len(symbol_ids)\n",
    "    n_times = len(time_steps)\n",
    "    n_features = len(X.columns) - 2  # Exclude symbol_id and t columns\n",
    "    X_arr = np.zeros((n_symbols, n_times, n_features))\n",
    "    Y_arr = np.zeros((n_symbols, n_times, 1))\n",
    "\n",
    "    # Step 5: Populate the feature array in a vectorized way\n",
    "    X_values = X.iloc[:, :-2].to_numpy()  # Extract all feature columns\n",
    "    X_arr[symbol_indices, time_indices] = X_values\n",
    "\n",
    "    # Step 6: Prepare the responder array (Y) in a vectorized way\n",
    "    Y_indices = Y.set_index(['symbol_id', 't'])['responder']  # Multi-index by symbol_id and t\n",
    "    Y_arr[symbol_indices, time_indices, 0] = Y_indices.loc[\n",
    "        zip(X['symbol_id'], X['t'])\n",
    "    ].to_numpy()\n",
    "    print(\"Array Shape:\", X_arr.shape)  # (n_symbol_ids, n_time_steps, n_features)\n",
    "\n",
    "    return X_arr.transpose(1,0,2), Y_arr.transpose(1,0,2)\n",
    "X_arr, Y_arr = to_arr(X, Y)"
   ]
  },
  {
   "cell_type": "code",
   "execution_count": 13,
   "metadata": {},
   "outputs": [],
   "source": [
    "# np.save('data/X.npy', X_arr)\n",
    "# np.save('data/Y.npy', Y_arr)"
   ]
  },
  {
   "cell_type": "code",
   "execution_count": 14,
   "metadata": {},
   "outputs": [],
   "source": [
    "import numpy as np\n",
    "X_arr = np.load('data/X.npy')\n",
    "Y_arr = np.load('data/Y.npy')"
   ]
  },
  {
   "cell_type": "code",
   "execution_count": 70,
   "metadata": {},
   "outputs": [],
   "source": [
    "import torch\n",
    "from torch.utils.data import Dataset, DataLoader\n",
    "\n",
    "class TimeSeriesDataset(Dataset):\n",
    "    def __init__(self, data, targets, window_size):\n",
    "        \"\"\"\n",
    "        Custom PyTorch dataset for sliding window time series data with corresponding targets.\n",
    "\n",
    "        Parameters:\n",
    "            data (np.ndarray): Input data of shape (n_times, n_assets, n_features).\n",
    "            targets (np.ndarray): Target data of shape (n_times, n_assets, 1).\n",
    "            window_size (int): Number of timesteps in each window.\n",
    "        \"\"\"\n",
    "        self.data = data\n",
    "        self.targets = targets\n",
    "        self.window_size = window_size\n",
    "        self.n_times, self.n_assets, self.n_features = data.shape\n",
    "\n",
    "        if targets.shape != (self.n_times, self.n_assets, 1):\n",
    "            raise ValueError(\"Targets must have shape (n_times, n_assets, 1).\")\n",
    "\n",
    "    def __len__(self):\n",
    "        \"\"\"\n",
    "        Total number of sliding windows in the dataset.\n",
    "        \"\"\"\n",
    "        # Subtract window_size from time dimension, as we can't create windows at the very end\n",
    "        return self.n_times - self.window_size + 1\n",
    "\n",
    "    def __getitem__(self, index):\n",
    "        \"\"\"\n",
    "        Fetch a sliding window of data and the corresponding target based on the index.\n",
    "\n",
    "        Parameters:\n",
    "            index (int): The index of the sliding window.\n",
    "\n",
    "        Returns:\n",
    "            tuple:\n",
    "                - torch.Tensor: A tensor of shape (n_assets, window_size, n_features) for the input data.\n",
    "                - torch.Tensor: A tensor of shape (n_assets, window_size, 1) for the corresponding target.\n",
    "        \"\"\"\n",
    "        # Extract the sliding window\n",
    "        window_data = self.data[index:index + self.window_size, :, :]\n",
    "\n",
    "        # Transpose to match desired output shape: (n_assets, window_size, n_features)\n",
    "        window_data = window_data.transpose(1, 0, 2)\n",
    "        window_targets = self.targets[index + self.window_size-1, :, 0]\n",
    "\n",
    "        # Convert to torch.Tensor\n",
    "        return torch.tensor(window_data, dtype=torch.float32), torch.tensor(window_targets, dtype=torch.float32)\n"
   ]
  },
  {
   "cell_type": "code",
   "execution_count": 71,
   "metadata": {},
   "outputs": [
    {
     "ename": "NameError",
     "evalue": "name 'tra' is not defined",
     "output_type": "error",
     "traceback": [
      "\u001b[1;31m---------------------------------------------------------------------------\u001b[0m",
      "\u001b[1;31mNameError\u001b[0m                                 Traceback (most recent call last)",
      "Cell \u001b[1;32mIn[71], line 1\u001b[0m\n\u001b[1;32m----> 1\u001b[0m tra\n",
      "\u001b[1;31mNameError\u001b[0m: name 'tra' is not defined"
     ]
    }
   ],
   "source": [
    "tra"
   ]
  },
  {
   "cell_type": "code",
   "execution_count": 72,
   "metadata": {},
   "outputs": [],
   "source": [
    "cutoff = -10000\n",
    "\n",
    "train_dataset = TimeSeriesDataset(X_arr[:cutoff], Y_arr[:cutoff], 30)\n",
    "val_dataset = TimeSeriesDataset(X_arr[cutoff:], Y_arr[cutoff:], 30)\n",
    "bs = 4096\n",
    "train_loader = DataLoader(train_dataset, batch_size=bs, shuffle=True)\n",
    "val_loader = DataLoader(val_dataset, batch_size=bs, shuffle=False)\n"
   ]
  },
  {
   "cell_type": "code",
   "execution_count": 73,
   "metadata": {},
   "outputs": [
    {
     "data": {
      "text/plain": [
       "(134330, 20, 1)"
      ]
     },
     "execution_count": 73,
     "metadata": {},
     "output_type": "execute_result"
    }
   ],
   "source": [
    "\n",
    "train_dataset.targets.shape"
   ]
  },
  {
   "cell_type": "code",
   "execution_count": 74,
   "metadata": {},
   "outputs": [
    {
     "name": "stdout",
     "output_type": "stream",
     "text": [
      "torch.Size([4096, 20, 30, 180]) torch.Size([4096, 20])\n"
     ]
    }
   ],
   "source": [
    "for x,y in train_loader:\n",
    "    print(x.shape, y.shape)\n",
    "    break"
   ]
  },
  {
   "cell_type": "code",
   "execution_count": 75,
   "metadata": {},
   "outputs": [],
   "source": [
    "from transformer_model import Transformer\n",
    "\n",
    "device = 'cuda'\n",
    "# model = Transformer(embed_size = 16  ,  num_layers = 4, forward_expansion = 6, heads =8, dropout = 0, max_length = 60, kmer = 6, stride = 6, vocab = vocab, z=64, pe = False).to(device) #expansion 4\n",
    "\n",
    "model = Transformer(embed_size = 64,  num_layers = 2, forward_expansion = 4, heads = 8, dropout = 0, max_length = 66, window_size = 30,n_features = 180)\n",
    "optimizer = torch.optim.Adam(model.parameters(), lr=0.0001)  # Define your optimizer \n",
    "scheduler = torch.optim.lr_scheduler.StepLR(optimizer, step_size=5, gamma=0.5)\n",
    "loss_func = torch.nn.MSELoss()  # Define your loss function"
   ]
  },
  {
   "cell_type": "code",
   "execution_count": null,
   "metadata": {},
   "outputs": [
    {
     "data": {
      "image/png": "[encoded data removed]",
      "text/plain": [
       "<Figure size 1200x800 with 2 Axes>"
      ]
     },
     "metadata": {},
     "output_type": "display_data"
    },
    {
     "name": "stdout",
     "output_type": "stream",
     "text": [
      "Losses\n",
      "\tTraining Loss    \t (min:    0.005, max:    0.006, cur:    0.005)\n",
      "\tValidation Loss  \t (min:    0.007, max:    0.007, cur:    0.007)\n",
      "Epoch 5/200, Loss: 0.0052, Time: 63.02s\n",
      "Batch: 20, MSE: 0.0051,\n"
     ]
    }
   ],
   "source": [
    "import time\n",
    "from livelossplot import PlotLosses\n",
    "device = 'cuda'\n",
    "model.to(device)\n",
    "model.train()\n",
    "\n",
    "# Define two groups for ladder losses and quant losses\n",
    "plotlosses = PlotLosses(groups={\n",
    "    'Losses': [\n",
    "        'Training Loss',\n",
    "        'Validation Loss'\n",
    "    ]\n",
    "})\n",
    "best_val = 10000\n",
    "epochs = 200\n",
    "for epoch in range(epochs):\n",
    "    start = time.time()\n",
    "    total_loss1 = 0.0  # Training ladder loss\n",
    "    total_loss2 = 0.0  # Training quant loss\n",
    "    val_loss1 = 0.0    # Validation ladder loss\n",
    "    val_loss2 = 0.0    # Validation quant loss\n",
    "    num_batches = 0\n",
    "    val_batches = 0\n",
    "    \n",
    "\n",
    "    # Training loop\n",
    "    model.train()\n",
    "    for x,y  in train_loader:\n",
    "        num_batches += 1\n",
    "        optimizer.zero_grad()\n",
    "        x2 = model(x.to(device))\n",
    "        loss = loss_func(x2.squeeze(2), y.to(device))\n",
    "\n",
    "        \n",
    "        loss.backward()\n",
    "        optimizer.step()\n",
    "        \n",
    "        # Accumulate training losses\n",
    "        total_loss1 += loss.item()\n",
    "\n",
    "\n",
    "        if num_batches % 20 == 0:\n",
    "            print(f'Batch: {num_batches}, MSE: {loss:.4f},')\n",
    "\n",
    "    # Validation loop\n",
    "    model.eval()\n",
    "    with torch.no_grad():\n",
    "        for x,y in val_loader:\n",
    "            val_batches += 1\n",
    "            x2 = model(x.to(device))\n",
    "            loss = loss_func(x2.squeeze(2), y.to(device))\n",
    "            val_loss1 += loss.item()\n",
    "\n",
    "    # Compute average losses\n",
    "    avg_loss1 = total_loss1 / num_batches\n",
    "    avg_val_loss1 = val_loss1 / val_batches\n",
    "    if avg_loss1  < best_val:\n",
    "        best_val = avg_loss1 \n",
    "        torch.save(model.state_dict(), 'models/best.pth')\n",
    "        print('Model saved')\n",
    "\n",
    "    scheduler.step()\n",
    "\n",
    "    # Log training and validation losses\n",
    "    logs = {\n",
    "        'Training Loss': avg_loss1,\n",
    "        'Validation Loss': avg_val_loss1,\n",
    "    }\n",
    "\n",
    "    # Update and send the logs to livelossplot\n",
    "    plotlosses.update(logs)\n",
    "    plotlosses.send()\n",
    "\n",
    "    elapsed = time.time() - start\n",
    "    print(f\"Epoch {epoch+1}/{epochs}, Loss: {avg_loss1:.4f}, Time: {elapsed:.2f}s\")"
   ]
  },
  {
   "cell_type": "markdown",
   "metadata": {},
   "source": [
    "#### Stationarity\n",
    "Symbol 0:\n",
    "almost all are nonstationary at some point in time -> we should difference all and append"
   ]
  },
  {
   "cell_type": "code",
   "execution_count": 10,
   "metadata": {},
   "outputs": [
    {
     "ename": "KeyError",
     "evalue": "'t'",
     "output_type": "error",
     "traceback": [
      "\u001b[1;31m---------------------------------------------------------------------------\u001b[0m",
      "\u001b[1;31mKeyError\u001b[0m                                  Traceback (most recent call last)",
      "File \u001b[1;32mc:\\Users\\leomo\\miniconda3\\envs\\particle\\Lib\\site-packages\\pandas\\core\\indexes\\base.py:3805\u001b[0m, in \u001b[0;36mIndex.get_loc\u001b[1;34m(self, key)\u001b[0m\n\u001b[0;32m   3804\u001b[0m \u001b[38;5;28;01mtry\u001b[39;00m:\n\u001b[1;32m-> 3805\u001b[0m     \u001b[38;5;28;01mreturn\u001b[39;00m \u001b[38;5;28mself\u001b[39m\u001b[38;5;241m.\u001b[39m_engine\u001b[38;5;241m.\u001b[39mget_loc(casted_key)\n\u001b[0;32m   3806\u001b[0m \u001b[38;5;28;01mexcept\u001b[39;00m \u001b[38;5;167;01mKeyError\u001b[39;00m \u001b[38;5;28;01mas\u001b[39;00m err:\n",
      "File \u001b[1;32mindex.pyx:167\u001b[0m, in \u001b[0;36mpandas._libs.index.IndexEngine.get_loc\u001b[1;34m()\u001b[0m\n",
      "File \u001b[1;32mindex.pyx:196\u001b[0m, in \u001b[0;36mpandas._libs.index.IndexEngine.get_loc\u001b[1;34m()\u001b[0m\n",
      "File \u001b[1;32mpandas\\\\_libs\\\\hashtable_class_helper.pxi:7081\u001b[0m, in \u001b[0;36mpandas._libs.hashtable.PyObjectHashTable.get_item\u001b[1;34m()\u001b[0m\n",
      "File \u001b[1;32mpandas\\\\_libs\\\\hashtable_class_helper.pxi:7089\u001b[0m, in \u001b[0;36mpandas._libs.hashtable.PyObjectHashTable.get_item\u001b[1;34m()\u001b[0m\n",
      "\u001b[1;31mKeyError\u001b[0m: 't'",
      "\nThe above exception was the direct cause of the following exception:\n",
      "\u001b[1;31mKeyError\u001b[0m                                  Traceback (most recent call last)",
      "Cell \u001b[1;32mIn[10], line 5\u001b[0m\n\u001b[0;32m      3\u001b[0m selected \u001b[38;5;241m=\u001b[39m tbl\u001b[38;5;241m.\u001b[39mloc[tbl[\u001b[38;5;124m'\u001b[39m\u001b[38;5;124msymbol_id\u001b[39m\u001b[38;5;124m'\u001b[39m] \u001b[38;5;241m==\u001b[39m \u001b[38;5;241m1\u001b[39m] \u001b[38;5;66;03m#.loc[ tbl['date_id']==1]\u001b[39;00m\n\u001b[0;32m      4\u001b[0m selected_f \u001b[38;5;241m=\u001b[39mselected[\u001b[38;5;124m'\u001b[39m\u001b[38;5;124mfeature_70\u001b[39m\u001b[38;5;124m'\u001b[39m]\n\u001b[1;32m----> 5\u001b[0m selected_t \u001b[38;5;241m=\u001b[39m selected[\u001b[38;5;124m'\u001b[39m\u001b[38;5;124mt\u001b[39m\u001b[38;5;124m'\u001b[39m]\n\u001b[0;32m      6\u001b[0m window \u001b[38;5;241m=\u001b[39m (\u001b[38;5;241m0\u001b[39m, \u001b[38;5;241m1000\u001b[39m)\n",
      "File \u001b[1;32mc:\\Users\\leomo\\miniconda3\\envs\\particle\\Lib\\site-packages\\pandas\\core\\frame.py:4102\u001b[0m, in \u001b[0;36mDataFrame.__getitem__\u001b[1;34m(self, key)\u001b[0m\n\u001b[0;32m   4100\u001b[0m \u001b[38;5;28;01mif\u001b[39;00m \u001b[38;5;28mself\u001b[39m\u001b[38;5;241m.\u001b[39mcolumns\u001b[38;5;241m.\u001b[39mnlevels \u001b[38;5;241m>\u001b[39m \u001b[38;5;241m1\u001b[39m:\n\u001b[0;32m   4101\u001b[0m     \u001b[38;5;28;01mreturn\u001b[39;00m \u001b[38;5;28mself\u001b[39m\u001b[38;5;241m.\u001b[39m_getitem_multilevel(key)\n\u001b[1;32m-> 4102\u001b[0m indexer \u001b[38;5;241m=\u001b[39m \u001b[38;5;28mself\u001b[39m\u001b[38;5;241m.\u001b[39mcolumns\u001b[38;5;241m.\u001b[39mget_loc(key)\n\u001b[0;32m   4103\u001b[0m \u001b[38;5;28;01mif\u001b[39;00m is_integer(indexer):\n\u001b[0;32m   4104\u001b[0m     indexer \u001b[38;5;241m=\u001b[39m [indexer]\n",
      "File \u001b[1;32mc:\\Users\\leomo\\miniconda3\\envs\\particle\\Lib\\site-packages\\pandas\\core\\indexes\\base.py:3812\u001b[0m, in \u001b[0;36mIndex.get_loc\u001b[1;34m(self, key)\u001b[0m\n\u001b[0;32m   3807\u001b[0m     \u001b[38;5;28;01mif\u001b[39;00m \u001b[38;5;28misinstance\u001b[39m(casted_key, \u001b[38;5;28mslice\u001b[39m) \u001b[38;5;129;01mor\u001b[39;00m (\n\u001b[0;32m   3808\u001b[0m         \u001b[38;5;28misinstance\u001b[39m(casted_key, abc\u001b[38;5;241m.\u001b[39mIterable)\n\u001b[0;32m   3809\u001b[0m         \u001b[38;5;129;01mand\u001b[39;00m \u001b[38;5;28many\u001b[39m(\u001b[38;5;28misinstance\u001b[39m(x, \u001b[38;5;28mslice\u001b[39m) \u001b[38;5;28;01mfor\u001b[39;00m x \u001b[38;5;129;01min\u001b[39;00m casted_key)\n\u001b[0;32m   3810\u001b[0m     ):\n\u001b[0;32m   3811\u001b[0m         \u001b[38;5;28;01mraise\u001b[39;00m InvalidIndexError(key)\n\u001b[1;32m-> 3812\u001b[0m     \u001b[38;5;28;01mraise\u001b[39;00m \u001b[38;5;167;01mKeyError\u001b[39;00m(key) \u001b[38;5;28;01mfrom\u001b[39;00m \u001b[38;5;21;01merr\u001b[39;00m\n\u001b[0;32m   3813\u001b[0m \u001b[38;5;28;01mexcept\u001b[39;00m \u001b[38;5;167;01mTypeError\u001b[39;00m:\n\u001b[0;32m   3814\u001b[0m     \u001b[38;5;66;03m# If we have a listlike key, _check_indexing_error will raise\u001b[39;00m\n\u001b[0;32m   3815\u001b[0m     \u001b[38;5;66;03m#  InvalidIndexError. Otherwise we fall through and re-raise\u001b[39;00m\n\u001b[0;32m   3816\u001b[0m     \u001b[38;5;66;03m#  the TypeError.\u001b[39;00m\n\u001b[0;32m   3817\u001b[0m     \u001b[38;5;28mself\u001b[39m\u001b[38;5;241m.\u001b[39m_check_indexing_error(key)\n",
      "\u001b[1;31mKeyError\u001b[0m: 't'"
     ]
    }
   ],
   "source": [
    "# should add lags of time (to show gap in time)\n",
    "# consider the lags issue by adding lags of responders\n",
    "selected = tbl.loc[tbl['symbol_id'] == 1] #.loc[ tbl['date_id']==1]\n",
    "selected_f =selected['feature_70']\n",
    "selected_t = selected['t']\n",
    "window = (0, 1000)"
   ]
  },
  {
   "cell_type": "markdown",
   "metadata": {},
   "source": [
    "#### ADF (Manual)"
   ]
  },
  {
   "cell_type": "code",
   "execution_count": 52,
   "metadata": {},
   "outputs": [
    {
     "data": {
      "image/png": "[encoded data removed]",
      "text/plain": [
       "<Figure size 1000x600 with 1 Axes>"
      ]
     },
     "metadata": {},
     "output_type": "display_data"
    }
   ],
   "source": [
    "import matplotlib.pyplot as plt\n",
    "from statsmodels.tsa.stattools import adfuller\n",
    "plt.figure(figsize=(10, 6))\n",
    "plt.plot(selected_t[window[0]:window[1]], selected_f[window[0]:window[1]], label=\"Time Series\", color=\"blue\")\n",
    "plt.title(\"Time Series Plot Showing Trend\", fontsize=16)\n",
    "plt.xlabel(\"Time\", fontsize=0)\n",
    "plt.ylabel(\"Value\", fontsize=12)\n",
    "plt.legend()\n",
    "plt.grid(False)\n",
    "plt.show()"
   ]
  },
  {
   "cell_type": "code",
   "execution_count": 43,
   "metadata": {},
   "outputs": [
    {
     "data": {
      "image/png": "[encoded data removed]",
      "text/plain": [
       "<Figure size 1200x600 with 2 Axes>"
      ]
     },
     "metadata": {},
     "output_type": "display_data"
    }
   ],
   "source": [
    "from statsmodels.tsa.stattools import acf, pacf\n",
    "acf_values = acf(selected_f)\n",
    "pacf_values = pacf(selected_f)\n",
    "fig, ax = plt.subplots(1, 2, figsize=(12, 6))\n",
    "\n",
    "# Plot ACF\n",
    "ax[0].stem(range(len(acf_values)), acf_values)\n",
    "ax[0].set_title(\"Autocorrelation Function (ACF)\")\n",
    "ax[0].set_xlabel(\"Lag\")\n",
    "ax[0].set_ylabel(\"Autocorrelation\")\n",
    "ax[0].grid()\n",
    "\n",
    "# Plot PACF\n",
    "ax[1].stem(range(len(pacf_values)), pacf_values)\n",
    "ax[1].set_title(\"Partial Autocorrelation Function (PACF)\")\n",
    "ax[1].set_xlabel(\"Lag\")\n",
    "ax[1].set_ylabel(\"Partial Autocorrelation\")\n",
    "ax[1].grid()\n",
    "\n",
    "plt.tight_layout()\n",
    "plt.show()"
   ]
  },
  {
   "cell_type": "code",
   "execution_count": null,
   "metadata": {},
   "outputs": [],
   "source": [
    "def stationarity(df, threshold=0.1):\n",
    "    results = {}\n",
    "    # Filter only numeric columns\n",
    "    numeric_df = df.select_dtypes(include='number')\n",
    "    \n",
    "    for col in numeric_df.columns:\n",
    "        original_var = numeric_df[col].var()\n",
    "        differenced_var = numeric_df[col].diff().var()\n",
    "        results[col] = (differenced_var / original_var) < threshold\n",
    "    \n",
    "    return results\n",
    "# stationarity(selected)"
   ]
  },
  {
   "cell_type": "code",
   "execution_count": null,
   "metadata": {},
   "outputs": [],
   "source": []
  },
  {
   "cell_type": "code",
   "execution_count": 13,
   "metadata": {},
   "outputs": [
    {
     "data": {
      "text/plain": [
       "1              00\n",
       "2              00\n",
       "3              00\n",
       "4              00\n",
       "5              00\n",
       "            ...  \n",
       "1944205    169848\n",
       "1944206    169848\n",
       "1944207    169848\n",
       "1944208    169848\n",
       "1944209    169848\n",
       "Name: t, Length: 1944209, dtype: object"
      ]
     },
     "execution_count": 13,
     "metadata": {},
     "output_type": "execute_result"
    }
   ],
   "source": []
  },
  {
   "cell_type": "code",
   "execution_count": null,
   "metadata": {},
   "outputs": [],
   "source": []
  },
  {
   "cell_type": "code",
   "execution_count": 22,
   "metadata": {},
   "outputs": [
    {
     "data": {
      "text/plain": [
       "1              00\n",
       "2              00\n",
       "3              00\n",
       "4              00\n",
       "5              00\n",
       "            ...  \n",
       "1944205    169848\n",
       "1944206    169848\n",
       "1944207    169848\n",
       "1944208    169848\n",
       "1944209    169848\n",
       "Name: t, Length: 1944209, dtype: object"
      ]
     },
     "execution_count": 22,
     "metadata": {},
     "output_type": "execute_result"
    }
   ],
   "source": [
    "X.drop(columns = ['t'], inplace = True)"
   ]
  },
  {
   "cell_type": "code",
   "execution_count": 17,
   "metadata": {},
   "outputs": [],
   "source": [
    "\n",
    "from sklearn.model_selection import TimeSeriesSplit\n",
    "import torch\n",
    "import numpy as np"
   ]
  },
  {
   "cell_type": "code",
   "execution_count": null,
   "metadata": {},
   "outputs": [
    {
     "ename": "TypeError",
     "evalue": "can't convert np.ndarray of type numpy.object_. The only supported types are: float64, float32, float16, complex64, complex128, int64, int32, int16, int8, uint8, and bool.",
     "output_type": "error",
     "traceback": [
      "\u001b[1;31m---------------------------------------------------------------------------\u001b[0m",
      "\u001b[1;31mTypeError\u001b[0m                                 Traceback (most recent call last)",
      "Cell \u001b[1;32mIn[18], line 2\u001b[0m\n\u001b[0;32m      1\u001b[0m cutoff \u001b[38;5;241m=\u001b[39m \u001b[38;5;241m-\u001b[39m\u001b[38;5;241m100000\u001b[39m\n\u001b[1;32m----> 2\u001b[0m train_dataset \u001b[38;5;241m=\u001b[39m TensorDataset(torch\u001b[38;5;241m.\u001b[39mtensor(X[:cutoff]\u001b[38;5;241m.\u001b[39mvalues), torch\u001b[38;5;241m.\u001b[39mtensor(y[:cutoff]\u001b[38;5;241m.\u001b[39mvalues))\n\u001b[0;32m      3\u001b[0m val_dataset \u001b[38;5;241m=\u001b[39m TensorDataset(torch\u001b[38;5;241m.\u001b[39mtensor(X[cutoff:]\u001b[38;5;241m.\u001b[39mvalues), torch\u001b[38;5;241m.\u001b[39mtensor(y[cutoff:]\u001b[38;5;241m.\u001b[39mvalues))\n",
      "\u001b[1;31mTypeError\u001b[0m: can't convert np.ndarray of type numpy.object_. The only supported types are: float64, float32, float16, complex64, complex128, int64, int32, int16, int8, uint8, and bool."
     ]
    }
   ],
   "source": []
  },
  {
   "cell_type": "code",
   "execution_count": null,
   "metadata": {},
   "outputs": [],
   "source": []
  },
  {
   "cell_type": "code",
   "execution_count": null,
   "metadata": {},
   "outputs": [],
   "source": [
    "# tscv = TimeSeriesSplit(n_splits=5, test_size = X.shape[0]//200)\n",
    "# combine the indices for the 5 splits into one for train and val, and initialize ONE dataloader"
   ]
  },
  {
   "cell_type": "code",
   "execution_count": null,
   "metadata": {},
   "outputs": [
    {
     "data": {
      "text/plain": [
       "(1944210, 84)"
      ]
     },
     "execution_count": 45,
     "metadata": {},
     "output_type": "execute_result"
    }
   ],
   "source": [
    "X.shape"
   ]
  },
  {
   "cell_type": "code",
   "execution_count": null,
   "metadata": {},
   "outputs": [
    {
     "data": {
      "text/plain": [
       "(1944210, 84)"
      ]
     },
     "execution_count": 46,
     "metadata": {},
     "output_type": "execute_result"
    }
   ],
   "source": [
    "X.shape"
   ]
  },
  {
   "cell_type": "code",
   "execution_count": null,
   "metadata": {},
   "outputs": [
    {
     "data": {
      "text/plain": [
       "(1895605,)"
      ]
     },
     "execution_count": 19,
     "metadata": {},
     "output_type": "execute_result"
    }
   ],
   "source": [
    "train_idx.shape"
   ]
  },
  {
   "cell_type": "code",
   "execution_count": null,
   "metadata": {},
   "outputs": [],
   "source": []
  },
  {
   "cell_type": "code",
   "execution_count": null,
   "metadata": {},
   "outputs": [],
   "source": [
    "train_subset = Subset(dataset, tscv.split(X)[0][0])"
   ]
  },
  {
   "cell_type": "code",
   "execution_count": null,
   "metadata": {},
   "outputs": [],
   "source": []
  }
 ],
 "metadata": {
  "kernelspec": {
   "display_name": "Python 3",
   "language": "python",
   "name": "python3"
  },
  "language_info": {
   "codemirror_mode": {
    "name": "ipython",
    "version": 3
   },
   "file_extension": ".py",
   "mimetype": "text/x-python",
   "name": "python",
   "nbconvert_exporter": "python",
   "pygments_lexer": "ipython3",
   "version": "3.11.9"
  }
 },
 "nbformat": 4,
 "nbformat_minor": 2
}
